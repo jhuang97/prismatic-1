{
 "cells": [
  {
   "cell_type": "code",
   "execution_count": null,
   "metadata": {},
   "outputs": [],
   "source": [
    "import matplotlib.pyplot as plt\n",
    "import numpy as np\n",
    "import pathlib\n",
    "import pyprismatic\n",
    "import py4DSTEM\n",
    "import random\n",
    "from matplotlib import cm\n",
    "from matplotlib.lines import Line2D\n",
    "from mpl_toolkits.axes_grid1 import make_axes_locatable"
   ]
  },
  {
   "cell_type": "markdown",
   "metadata": {},
   "source": [
    "## Simulations"
   ]
  },
  {
   "cell_type": "code",
   "execution_count": null,
   "metadata": {},
   "outputs": [],
   "source": [
    "#output path\n",
    "base_folder = \"outputs/temp_series/\"\n",
    "\n",
    "hrtem_2D_base = \"hrtem_2D_fp\"\n",
    "hrtem_3D_base = \"hrtem_3D_fp\"\n",
    "\n",
    "stem_2D_base = \"stem_2D_fp\" \n",
    "stem_3D_base = \"stem_3D_fp\"\n",
    "\n",
    "#input paths\n",
    "fp_ws2 = \"structure_files/WS2_moire_7_3_degree\""
   ]
  },
  {
   "cell_type": "code",
   "execution_count": null,
   "metadata": {},
   "outputs": [],
   "source": [
    "for i in range(5):\n",
    "    ofolder = base_folder + \"T%i\" % j +\"_2D/\"\n",
    "    pathlib.Path(ofolder).mkdir(parents=True, exist_ok=True) \n",
    "    ofolder = base_folder + \"T%i\" % j +\"_3D/\"\n",
    "    pathlib.Path(ofolder).mkdir(parents=True, exist_ok=True) "
   ]
  },
  {
   "cell_type": "markdown",
   "metadata": {},
   "source": [
    "### HRTEM 2D"
   ]
  },
  {
   "cell_type": "code",
   "execution_count": null,
   "metadata": {},
   "outputs": [],
   "source": [
    "pot_hrtem_meta = pyprismatic.Metadata()\n",
    "pot_hrtem_meta.E0 = 80\n",
    "pot_hrtem_meta.realspacePixelSize = 0.075\n",
    "pot_hrtem_meta.potential3D = False\n",
    "pot_hrtem_meta.includeThermalEffects = True\n",
    "pot_hrtem_meta.numFP = 1\n",
    "pot_hrtem_meta.algorithm = \"hrtem\"\n",
    "pot_hrtem_meta.probeDefocus = 33.0 #white atom peak"
   ]
  },
  {
   "cell_type": "code",
   "execution_count": null,
   "metadata": {},
   "outputs": [],
   "source": [
    "if not pathlib.Path(base_folder+\"T4_2D/hrtem_2D_fp0127_T4.h5\").exists():\n",
    "    for j in range(5):\n",
    "        print(\"On T%i \" %j)\n",
    "        for i in range(128):\n",
    "            pot_hrtem_meta.filenameAtoms = fp_ws2 + \"_T%i\" % j + \".xyz\"\n",
    "            fp_str = hrtem_2D_base +\"%04i\" % i + \"_T%i\" % j + \".h5\"\n",
    "            ofolder = base_folder + \"T%i\" % j +\"_2D/\"\n",
    "            pot_hrtem_meta.filenameOutput = ofolder + fp_str\n",
    "            pot_hrtem_meta.randomSeed = i*1000\n",
    "            pot_hrtem_meta.go()"
   ]
  },
  {
   "cell_type": "markdown",
   "metadata": {},
   "source": [
    "### HRTEM 3D"
   ]
  },
  {
   "cell_type": "code",
   "execution_count": null,
   "metadata": {},
   "outputs": [],
   "source": [
    "pot_hrtem_meta.potential3D = True\n",
    "pot_hrtem_meta.zSampling = 40"
   ]
  },
  {
   "cell_type": "code",
   "execution_count": null,
   "metadata": {},
   "outputs": [],
   "source": [
    "if not pathlib.Path(base_folder+\"T4_3D/hrtem_3D_fp0127_T4.h5\").exists():\n",
    "    for j in range(5):\n",
    "        print(\"On T%i \" %j)\n",
    "        for i in range(128):\n",
    "            pot_hrtem_meta.filenameAtoms = fp_ws2 + \"_T%i\" % j + \".xyz\"\n",
    "            fp_str = hrtem_3D_base + \"%04i\" % i + \"_T%i\" % j + \".h5\"\n",
    "            ofolder = base_folder + \"T%i\" % j +\"_3D/\"\n",
    "            pot_hrtem_meta.filenameOutput = ofolder + fp_str\n",
    "            pot_hrtem_meta.randomSeed = i*1000\n",
    "            pot_hrtem_meta.go()"
   ]
  },
  {
   "cell_type": "markdown",
   "metadata": {},
   "source": [
    "## STEM 2D"
   ]
  },
  {
   "cell_type": "code",
   "execution_count": null,
   "metadata": {},
   "outputs": [],
   "source": [
    "pot_stem_meta = pyprismatic.Metadata()\n",
    "pot_stem_meta.E0 = 80\n",
    "pot_stem_meta.realspacePixelSize = 0.075\n",
    "pot_stem_meta.probeSemiangle = 21\n",
    "pot_stem_meta.potential3D = False\n",
    "pot_stem_meta.save3DOutput = True\n",
    "pot_stem_meta.includeThermalEffects = True\n",
    "pot_stem_meta.numFP = 1\n",
    "pot_stem_meta.algorithm = \"p\"\n",
    "pot_stem_meta.interpolationFactor = 2\n",
    "pot_stem_meta.probeStep = 0.25"
   ]
  },
  {
   "cell_type": "code",
   "execution_count": null,
   "metadata": {},
   "outputs": [],
   "source": [
    "if not pathlib.Path(base_folder+\"T4_2D/stem_2D_fp0127_T4.h5\").exists():\n",
    "    for j in range(0,5):\n",
    "        print(\"On T%i \" %j)\n",
    "        for i in range(128):\n",
    "            pot_stem_meta.filenameAtoms = fp_ws2 + \"_T%i\" % j + \".xyz\"\n",
    "            fp_str = stem_2D_base + \"%04i\" % i + \"_T%i\" % j + \".h5\"\n",
    "            ofolder = base_folder + \"T%i\" % j +\"_2D/\"\n",
    "            pot_stem_meta.filenameOutput = ofolder + fp_str\n",
    "            pot_stem_meta.randomSeed = i*1000\n",
    "            pot_stem_meta.go()"
   ]
  },
  {
   "cell_type": "markdown",
   "metadata": {},
   "source": [
    "### STEM 3D"
   ]
  },
  {
   "cell_type": "code",
   "execution_count": null,
   "metadata": {},
   "outputs": [],
   "source": [
    "pot_stem_meta.potential3D = True\n",
    "pot_stem_meta.zSampling = 40"
   ]
  },
  {
   "cell_type": "code",
   "execution_count": null,
   "metadata": {},
   "outputs": [],
   "source": [
    "if not pathlib.Path(base_folder+\"T4_3D/stem_3D_fp0127_T4.h5\").exists():\n",
    "    for j in range(5):\n",
    "        print(\"On T%i \" %j)\n",
    "        for i in range(128):\n",
    "            pot_stem_meta.filenameAtoms = fp_ws2 + \"_T%i\" % j + \".xyz\"\n",
    "            fp_str = stem_3D_base + \"%04i\" % i + \"_T%i\" % j + \".h5\"\n",
    "            ofolder = base_folder + \"T%i\" % j +\"_3D/\"\n",
    "            pot_stem_meta.filenameOutput = ofolder + fp_str\n",
    "            pot_stem_meta.randomSeed = i*1000\n",
    "            pot_stem_meta.go(display_run_time=False, save_run_time=False)"
   ]
  },
  {
   "cell_type": "markdown",
   "metadata": {},
   "source": [
    "## Plotting"
   ]
  },
  {
   "cell_type": "code",
   "execution_count": null,
   "metadata": {},
   "outputs": [],
   "source": [
    "def get_splits(k, N, shuffle=False):\n",
    "    splits = []\n",
    "    true_idx = [x for x in range(N)]\n",
    "    if(shuffle):\n",
    "        random.shuffle(true_idx)\n",
    "    for i in range(k):\n",
    "        idx = [true_idx[x+i*(N//k)] for x in range((N//k))]\n",
    "        splits.append(idx)\n",
    "        \n",
    "    return splits\n",
    "\n",
    "def get_average_from_split(data, split):\n",
    "    test_idx = np.zeros(data.shape[-1], dtype=bool)\n",
    "    test_idx[split] = True\n",
    "\n",
    "    #pre sum STEM virtual detectors\n",
    "    test = np.mean(data[:,:,test_idx], axis=-1)\n",
    "    \n",
    "    return test\n",
    "\n",
    "def get_std_devs(data, k_list, shuffle=True):\n",
    "    errors = []\n",
    "    for k in k_list:\n",
    "        stack = np.zeros((data.shape[0], data.shape[1], 64))\n",
    "        count = 0\n",
    "        for r in range(128//(2*k)):\n",
    "            splits = get_splits(k, data.shape[-1], shuffle=shuffle)\n",
    "            for split in splits:\n",
    "                cur_img = get_average_from_split(data, split)\n",
    "                stack[:,:,count] = cur_img\n",
    "                count += 1\n",
    "        errors.append(np.mean(np.std(stack, axis=2)))\n",
    "    \n",
    "    return errors"
   ]
  },
  {
   "cell_type": "code",
   "execution_count": null,
   "metadata": {},
   "outputs": [],
   "source": [
    "stem_2D_T = []\n",
    "stem_3D_T = []\n",
    "hrtem_2D_T = []\n",
    "hrtem_3D_T = []\n",
    "\n",
    "for j in range(5):\n",
    "    stem_2D_data = np.zeros((171,99,139,128), dtype=np.single)\n",
    "    stem_3D_data = np.zeros((171,99,139,128), dtype=np.single)\n",
    "    hrtem_2D_data = np.zeros((288,168,128), dtype=np.single)\n",
    "    hrtem_3D_data = np.zeros((288,168,128), dtype=np.single)\n",
    "    \n",
    "    folder_2D = folder+\"T%i\"%j+\"_2D/\"\n",
    "    folder_3D = folder+\"T%i\"%j+\"_3D/\"\n",
    "    for i in range(128):\n",
    "        stem_2D_fp = base_folder_2D+stem_2D_base + \"%04i\" % i + \"_T%i\" % j + \".h5\"\n",
    "        stem_3D_fp = base_folder_3D+stem_3D_base + \"%04i\" % i + \"_T%i\" % j + \".h5\"\n",
    "        hrtem_2D_fp = base_folder_2D+hrtem_2D_base + \"%04i\" % i + \"_T%i\" % j +  \".h5\"\n",
    "        hrtem_3D_fp = base_folder_3D+hrtem_3D_base + \"%04i\" % i + \"_T%i\" % j + \".h5\"\n",
    "        stem_2D_data[:,:,:,i] = py4DSTEM.io.read(stem_2D_fp, data_id=0).data\n",
    "        stem_3D_data[:,:,:,i] = py4DSTEM.io.read(stem_3D_fp, data_id=0).data\n",
    "        hrtem_2D_data[:,:,i] = np.squeeze(py4DSTEM.io.read(hrtem_2D_fp, data_id=0).data)\n",
    "        hrtem_3D_data[:,:,i] = np.squeeze(py4DSTEM.io.read(hrtem_3D_fp, data_id=0).data)\n",
    "        \n",
    "    stem_2D_T.append(stem_2D_data)\n",
    "    stem_3D_T.append(stem_3D_data)\n",
    "    hrtem_2D_T.append(hrtem_2D_data)\n",
    "    hrtem_3D_T.append(hrtem_3D_data)"
   ]
  },
  {
   "cell_type": "code",
   "execution_count": null,
   "metadata": {},
   "outputs": [],
   "source": [
    "k_list = [64, 32, 16, 8, 4, 2]"
   ]
  },
  {
   "cell_type": "code",
   "execution_count": null,
   "metadata": {},
   "outputs": [],
   "source": [
    "hrtem_2D_T_devs = []\n",
    "hrtem_3D_T_devs = []\n",
    "\n",
    "for j in range(5):\n",
    "    hrtem_2D_T_devs.append(get_std_devs(hrtem_2D_T[j], k_list))\n",
    "    hrtem_3D_T_devs.append(get_std_devs(hrtem_3D_T[j], k_list))"
   ]
  },
  {
   "cell_type": "code",
   "execution_count": null,
   "metadata": {},
   "outputs": [],
   "source": [
    "haadf_vd = slice(60,120)\n",
    "haadf_2D_T_devs = []\n",
    "haadf_3D_T_devs = []\n",
    "for j in range(5):\n",
    "    haadf_2D_data = np.sum(stem_2D_T[j][:,:,haadf_vd,:], axis=2)\n",
    "    haadf_3D_data = np.sum(stem_3D_T[j][:,:,haadf_vd,:], axis=2)\n",
    "    haadf_2D_T_devs.append(get_std_devs(haadf_2D_data, k_list))\n",
    "    haadf_3D_T_devs.append(get_std_devs(haadf_3D_data, k_list))"
   ]
  },
  {
   "cell_type": "code",
   "execution_count": null,
   "metadata": {},
   "outputs": [],
   "source": [
    "abf_vd = slice(10,30)\n",
    "abf_2D_T_devs = []\n",
    "abf_3D_T_devs = []\n",
    "for j in range(5):\n",
    "    abf_2D_data = np.sum(stem_2D_T[j][:,:,abf_vd,:], axis=2)\n",
    "    abf_3D_data = np.sum(stem_3D_T[j][:,:,abf_vd,:], axis=2)\n",
    "    abf_2D_T_devs.append(get_std_devs(abf_2D_data, k_list))\n",
    "    abf_3D_T_devs.append(get_std_devs(abf_3D_data, k_list))"
   ]
  },
  {
   "cell_type": "code",
   "execution_count": null,
   "metadata": {},
   "outputs": [],
   "source": [
    "N_fp = [128/x for x in k_list]\n",
    "dw = np.array([0.01, 0.02, 0.04, 0.08, 0.16])\n",
    "h2_arr = np.array(haadf_2D_T_devs)\n",
    "h3_arr = np.array(haadf_3D_T_devs)\n",
    "t2_arr = np.array(hrtem_2D_T_devs)\n",
    "t3_arr = np.array(hrtem_3D_T_devs)\n",
    "a2_arr = np.array(abf_2D_T_devs)\n",
    "a3_arr = np.array(abf_3D_T_devs)"
   ]
  },
  {
   "cell_type": "code",
   "execution_count": null,
   "metadata": {},
   "outputs": [],
   "source": [
    "imap = plt.get_cmap(\"inferno\")\n",
    "f = plt.figure(figsize=(6.4*2,6.4*2*(2/5)))\n",
    "\n",
    "colors=[20,80,120,160,200]\n",
    "\n",
    "gs = f.add_gridspec(7,3)\n",
    "gs.update(wspace=0.2, hspace=1.2) # set the spacing between axes. \n",
    "split_idx = 4\n",
    "ax00 = f.add_subplot(gs[:split_idx,0])\n",
    "ax01 = f.add_subplot(gs[:split_idx,1])\n",
    "ax02 = f.add_subplot(gs[:split_idx,2])\n",
    "\n",
    "ax10 = f.add_subplot(gs[split_idx:,0])\n",
    "ax11 = f.add_subplot(gs[split_idx:,1])\n",
    "ax12 = f.add_subplot(gs[split_idx:,2])\n",
    "\n",
    "axes = [[ax00,ax01,ax02],[ax10,ax11,ax12]]\n",
    "for j in range(5):\n",
    "    axes[0][2].loglog(N_fp, hrtem_2D_T_devs[j], linewidth=1.25, marker='.', linestyle=\"-\", color=imap(colors[j]), label=\"2D\")\n",
    "    axes[0][2].loglog(N_fp, hrtem_3D_T_devs[j], linewidth=1.25, marker='.', linestyle=\"--\",color=imap(colors[j]), label=\"3D\")\n",
    "\n",
    "    axes[0][1].loglog(N_fp, haadf_2D_T_devs[j], linewidth=1.25, marker='.', linestyle=\"-\", color=imap(colors[j]), label=\"2D\")\n",
    "    axes[0][1].loglog(N_fp, haadf_3D_T_devs[j], linewidth=1.25, marker='.', linestyle=\"--\",color=imap(colors[j]),  label=\"3D\")\n",
    "\n",
    "    axes[0][0].loglog(N_fp, abf_2D_T_devs[j], linewidth=1.25, marker='.', linestyle=\"-\", color=imap(colors[j]), label=\"2D T%i\" % j)\n",
    "    axes[0][0].loglog(N_fp, abf_3D_T_devs[j], linewidth=1.25, marker='.', linestyle=\"--\", color=imap(colors[j]), label=\"3D T%i\" % j)\n",
    "\n",
    "# axes[0][0].set_ylabel(\"Cross-validation Error\")\n",
    "\n",
    "axes[1][0].set_xlabel(\"Number of Frozen Phonons\")\n",
    "axes[1][1].set_xlabel(\"Number of Frozen Phonons\")\n",
    "axes[1][2].set_xlabel(\"Number of Frozen Phonons\")\n",
    "\n",
    "axes[0][2].set_title(\"HRTEM\")\n",
    "axes[0][1].set_title(\"ABF STEM (10-30mrad)\")\n",
    "axes[0][0].set_title(\"HAADF STEM (60-120mrad)\")\n",
    "\n",
    "custom_lines = [Line2D([0], [0], color=\"black\", lw=1.25),\n",
    "                Line2D([0], [0], color=\"black\", lw=1.25, linestyle=\"--\")]\n",
    "\n",
    "angle = -15\n",
    "axes[0][0].text(8, 2.7e-3, s=\"DW=0.16\", rotation=angle)\n",
    "axes[0][0].text(8, 1.4e-3, s=\"DW=0.08\", rotation=angle)\n",
    "axes[0][0].text(8, 7.5e-4, s=\"DW=0.04\", rotation=angle)\n",
    "axes[0][0].text(8, 4.3e-4, s=\"DW=0.02\", rotation=angle)\n",
    "axes[0][0].text(8, 1e-4, s=\"DW=0.01\", rotation=angle)\n",
    "axes[0][2].legend(custom_lines, [\"2D\", \"3D\"], bbox_to_anchor=(1, 0.98), loc='upper right', frameon=False)\n",
    "\n",
    "\n",
    "for j in [4]:\n",
    "    axes[1][0].loglog(1/dw, h2_arr[:,j], linewidth=1.25, marker='.', linestyle='-', color=\"black\")\n",
    "    axes[1][0].loglog(1/dw, h3_arr[:,j], linewidth=1.25, marker='.', linestyle='--', color=\"black\")\n",
    "    axes[1][1].loglog(1/dw, a2_arr[:,j], linewidth=1.25, marker='.', linestyle='-', color=\"black\")\n",
    "    axes[1][1].loglog(1/dw, a3_arr[:,j], linewidth=1.25, marker='.', linestyle='--', color=\"black\")\n",
    "    axes[1][2].loglog(1/dw, t2_arr[:,j], linewidth=1.25, marker='.', linestyle='-', color=\"black\")\n",
    "    axes[1][2].loglog(1/dw, t3_arr[:,j], linewidth=1.25, marker='.', linestyle='--', color=\"black\")\n",
    "    \n",
    "axes[1][0].set_ylabel(\"Cross-validation error (fraction of probe)\")\n",
    "\n",
    "axes[1][2].set_ylabel(\"Cross-validation error (intensity)\")\n",
    "\n",
    "for ax in axes[0]:\n",
    "    ax.set_xticks([2,4,8,16,32,64])\n",
    "    ax.set_xticklabels([2,4,8,16,32,64])\n",
    "    ax.grid(True)\n",
    "    ax.set_xlabel(\"Number of Frozen Phonons\")\n",
    "    ax.tick_params(axis=\"y\",direction=\"in\", left=\"off\",labelleft=\"on\")\n",
    "    plt.setp(ax.spines.values(), linewidth=1.25)\n",
    "        \n",
    "for ax in axes[1]:\n",
    "    ax.set_xticks(1/dw)\n",
    "    ax.set_xticklabels(dw)\n",
    "    ax.grid(True)\n",
    "    ax.set_xlabel(\"1/T\")\n",
    "    ax.tick_params(axis=\"y\",direction=\"in\", left=\"off\",labelleft=\"on\")\n",
    "    plt.setp(ax.spines.values(), linewidth=1.25)"
   ]
  }
 ],
 "metadata": {
  "kernelspec": {
   "display_name": "Python [conda env:ML_work]",
   "language": "python",
   "name": "conda-env-ML_work-py"
  },
  "language_info": {
   "codemirror_mode": {
    "name": "ipython",
    "version": 3
   },
   "file_extension": ".py",
   "mimetype": "text/x-python",
   "name": "python",
   "nbconvert_exporter": "python",
   "pygments_lexer": "ipython3",
   "version": "3.7.9"
  }
 },
 "nbformat": 4,
 "nbformat_minor": 4
}
