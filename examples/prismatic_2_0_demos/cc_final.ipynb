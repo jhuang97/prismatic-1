{
 "cells": [
  {
   "cell_type": "code",
   "execution_count": null,
   "metadata": {},
   "outputs": [],
   "source": [
    "import h5py\n",
    "import matplotlib.pyplot as plt\n",
    "import numpy as np\n",
    "import pathlib\n",
    "import py4DSTEM\n",
    "import pyprismatic\n",
    "from pyprismatic.process import Cc"
   ]
  },
  {
   "cell_type": "markdown",
   "metadata": {},
   "source": [
    "## Simulation"
   ]
  },
  {
   "cell_type": "code",
   "execution_count": null,
   "metadata": {},
   "outputs": [],
   "source": [
    "cc_folder = \"outputs/cc/\"\n",
    "pathlib.Path(cc_folder).mkdir(parents=True, exist_ok=True) "
   ]
  },
  {
   "cell_type": "code",
   "execution_count": null,
   "metadata": {},
   "outputs": [],
   "source": [
    "fp_atoms = \"structure_files/WS2_moire_7_3_degree.xyz\"\n",
    "fp_20  = cc_folder + \"df_series_20kv.h5\"\n",
    "fp_100 = cc_folder + \"df_series_100kv.h5\""
   ]
  },
  {
   "cell_type": "code",
   "execution_count": null,
   "metadata": {},
   "outputs": [],
   "source": [
    "sim_meta = pyprismatic.Metadata()\n",
    "sim_meta.filenameAtoms = fp_atoms\n",
    "sim_meta.filenameOutput = fp_100\n",
    "\n",
    "sim_meta.algorithm = \"p\"\n",
    "sim_meta.interpolationFactorX = 2\n",
    "sim_meta.interpolationFactorY = 2\n",
    "sim_meta.E0 = 100\n",
    "sim_meta.realspacePixelSize = 0.1\n",
    "sim_meta.probeSemiangle = 21\n",
    "\n",
    "sim_meta.probeStep = 0.2\n",
    "sim_meta.scanWindowX = (0.0, 0.5)\n",
    "sim_meta.scanWindowY = (0.0, 0.5)\n",
    "sim_meta.probeDefocus_min = -30.0\n",
    "sim_meta.probeDefocus_max = 30.0\n",
    "sim_meta.probeDefocus_step = 0.9375\n",
    "\n",
    "sim_meta.potential3D = False\n",
    "sim_meta.save3DOutput = True\n",
    "sim_meta.includeThermalEffects = False"
   ]
  },
  {
   "cell_type": "code",
   "execution_count": null,
   "metadata": {},
   "outputs": [],
   "source": [
    "if not pathlib.Path(sim_meta.filenameOutput).exists():\n",
    "    sim_meta.go()"
   ]
  },
  {
   "cell_type": "code",
   "execution_count": null,
   "metadata": {},
   "outputs": [],
   "source": [
    "sim_meta.filenameOutput = fp_20\n",
    "sim_meta.E0 = 20\n",
    "sim_meta.probeDefocus_min = -150.0\n",
    "sim_meta.probeDefocus_max = 150.0\n",
    "sim_meta.probeDefocus_step = 4.6875\n",
    "if not pathlib.Path(sim_meta.filenameOutput).exists():\n",
    "    sim_meta.go()"
   ]
  },
  {
   "cell_type": "markdown",
   "metadata": {},
   "source": [
    "## Plotting"
   ]
  },
  {
   "cell_type": "code",
   "execution_count": 1,
   "metadata": {},
   "outputs": [],
   "source": [
    "def rms(img1, img2):\n",
    "    dif = img1 - img2\n",
    "    a1 = np.mean(dif**2)\n",
    "    b1 = np.mean(img2**2)\n",
    "    return np.sqrt(a1/b1)"
   ]
  },
  {
   "cell_type": "code",
   "execution_count": null,
   "metadata": {},
   "outputs": [],
   "source": [
    "f = h5py.File(fp_20, 'r')\n",
    "df_dim = np.array(f['4DSTEM_simulation']['data']['supergroups']['vd_CC_series']['sgdim1'])\n",
    "df_series_20 = np.array(f['4DSTEM_simulation']['data']['supergroups']['vd_CC_series']['supergroup'])\n",
    "f.close()\n",
    "\n",
    "f = h5py.File(fp_100, 'r')\n",
    "df_series_100 = np.array(f['4DSTEM_simulation']['data']['supergroups']['vd_CC_series']['supergroup'])\n",
    "f.close()"
   ]
  },
  {
   "cell_type": "code",
   "execution_count": null,
   "metadata": {},
   "outputs": [],
   "source": [
    "bfo = 20 #bright field outer angle mrad\n",
    "abfi = 10 #abf inner angle mrad\n",
    "adfi = 40 #haadf inner angle\n",
    "adfo = 90 #haadf outer angle\n",
    "\n",
    "bf_20 = np.sum(df_series_20[:,:,0:bfo,:],axis=2) #BF \n",
    "abf_20 = np.sum(df_series_20[:,:,abfi:bfo,:],axis=2) #ABF\n",
    "haadf_20 = np.sum(df_series_20[:,:,adfi:adfo,:],axis=2) #HAADF\n",
    "\n",
    "bf_100 = np.sum(df_series_100[:,:,0:bfo,:],axis=2) #BF \n",
    "abf_100 = np.sum(df_series_100[:,:,abfi:bfo,:],axis=2) #ABF\n",
    "haadf_100 = np.sum(df_series_100[:,:,adfi:adfo,:],axis=2) #HAADF"
   ]
  },
  {
   "cell_type": "code",
   "execution_count": 6,
   "metadata": {},
   "outputs": [],
   "source": [
    "ws_haadf_20 = []\n",
    "ws_bf_20 = []\n",
    "ws_abf_20 = []\n",
    "ws_haadf_100 = []\n",
    "ws_bf_100 = []\n",
    "ws_abf_100 = []\n",
    "\n",
    "for i in range(df_series_20.shape[-1]):\n",
    "    ws_haadf_20.append(np.squeeze(haadf_20[:,:,i]))\n",
    "    ws_bf_20.append(np.squeeze(bf_20[:,:,i]))\n",
    "    ws_abf_20.append(np.squeeze(abf_20[:,:,i]))\n",
    "    ws_haadf_100.append(np.squeeze(haadf_100[:,:,i]))\n",
    "    ws_bf_100.append(np.squeeze(bf_100[:,:,i]))\n",
    "    ws_abf_100.append(np.squeeze(abf_100[:,:,i]))"
   ]
  },
  {
   "cell_type": "code",
   "execution_count": 7,
   "metadata": {},
   "outputs": [],
   "source": [
    "sigma_20 = 50\n",
    "sigma_100 = 10\n",
    "\n",
    "ws_haadf_cc_20 = Cc(ws_haadf_20, df_dim)\n",
    "ws_bf_cc_20 = Cc(ws_bf_20, df_dim)\n",
    "ws_abf_cc_20 = Cc(ws_abf_20, df_dim)\n",
    "\n",
    "ws_haadf_cc_100 = Cc(ws_haadf_100, df_dim)\n",
    "ws_bf_cc_100 = Cc(ws_bf_100, df_dim)\n",
    "ws_abf_cc_100 = Cc(ws_abf_100, df_dim)\n",
    "\n",
    "haadf_avg_20 = ws_haadf_cc_20.computeImage(0, sigma_20)\n",
    "bf_avg_20 = ws_bf_cc_20.computeImage(0, sigma_20)\n",
    "abf_avg_20 = ws_abf_cc_20.computeImage(0, sigma_20)\n",
    "\n",
    "haadf_avg_100 = ws_haadf_cc_100.computeImage(0, sigma_100)\n",
    "bf_avg_100 = ws_bf_cc_100.computeImage(0, sigma_100)\n",
    "abf_avg_100 = ws_abf_cc_100.computeImage(0, sigma_100)"
   ]
  },
  {
   "cell_type": "code",
   "execution_count": 7,
   "metadata": {},
   "outputs": [],
   "source": [
    "n = [1]\n",
    "rms1 = [rms(bf_20[:,:,32], bf_avg_20)]\n",
    "rms2 = [rms(abf_20[:,:,32], abf_avg_20)]\n",
    "rms3 = [rms(haadf_20[:,:,32], haadf_avg_20)]\n",
    "rms4 = [rms(bf_100[:,:,32], bf_avg_100)]\n",
    "rms5 = [rms(abf_100[:,:,32], abf_avg_100)]\n",
    "rms6 = [rms(haadf_100[:,:,32], haadf_avg_100)]\n",
    "\n",
    "# Calculate RMSE for different number of defocus planes\n",
    "for k, j in enumerate([32, 16, 8, 4, 2, 1]):\n",
    "    \n",
    "    d = []\n",
    "    image1 = []\n",
    "    image2 = []\n",
    "    image3 = []\n",
    "    image4 = []\n",
    "    image5 = []\n",
    "    image6 = []\n",
    "\n",
    "\n",
    "    for i in range(2**(k + 1) + 1):\n",
    "        \n",
    "        d.append(df_dim[j*i])\n",
    "        image1.append(ws_bf_20[j*i])\n",
    "        image2.append(ws_abf_20[j*i])\n",
    "        image3.append(ws_haadf_20[j*i])\n",
    "        image4.append(ws_bf_100[j*i])\n",
    "        image5.append(ws_abf_100[j*i])\n",
    "        image6.append(ws_haadf_100[j*i])\n",
    "    \n",
    "    x1 = Cc(image1, d)\n",
    "    x2 = Cc(image2, d)\n",
    "    x3 = Cc(image3, d)\n",
    "    x4 = Cc(image4, d)\n",
    "    x5 = Cc(image5, d)\n",
    "    x6 = Cc(image6, d)\n",
    "    \n",
    "    rms1.append(rms(x1.computeImage(0,sigma_20), bf_avg_20))\n",
    "    rms2.append(rms(x2.computeImage(0,sigma_20), abf_avg_20))\n",
    "    rms3.append(rms(x3.computeImage(0,sigma_20), haadf_avg_20))\n",
    "    rms4.append(rms(x4.computeImage(0,sigma_100), bf_avg_100))\n",
    "    rms5.append(rms(x5.computeImage(0,sigma_100), abf_avg_100))\n",
    "    rms6.append(rms(x6.computeImage(0,sigma_100), haadf_avg_100))\n",
    "    n.append(len(x1.plotweights))"
   ]
  },
  {
   "cell_type": "code",
   "execution_count": null,
   "metadata": {},
   "outputs": [],
   "source": [
    "fig = plt.figure(figsize=(5,5))\n",
    "ax = fig.gca()\n",
    "n = np.array(n)\n",
    "ax.loglog(n[:-1], rms1[:-1], color=\"red\", linewidth=1.25, marker=\"o\", label=\"BF 20kV\")\n",
    "ax.loglog(n[:-1], rms4[:-1], color=\"red\", linestyle=\"--\", linewidth=1.25, marker=\"o\", label=\"BF 100kV\")\n",
    "ax.loglog(n[:-1], rms3[:-1], color=(0,.6,1), linewidth=1.25, marker=\"o\", label=\"HAADF 20kV\")\n",
    "ax.loglog(n[:-1], rms6[:-1], color=(0,.6,1), linestyle=\"--\", linewidth=1.25, marker=\"o\", label=\"HAADF 100kV\")\n",
    "\n",
    "ax.set_ylabel(\"RMS error (fraction of probe)\", fontsize=14)\n",
    "ax.set_xlabel(\"Number of additional defocus planes\", fontsize=14)\n",
    "xt = np.array([2**x for x in range(0,6)])\n",
    "xtl = np.copy(xt)\n",
    "xtl[0] = 0\n",
    "xt[1:] += 1\n",
    "ax.set_xticks(xt)\n",
    "ax.set_xticklabels(xtl)\n",
    "ax.grid(True)\n",
    "plt.setp(ax.spines.values(), linewidth=1.5)\n",
    "ax.legend(frameon=False, loc=\"lower left\")"
   ]
  }
 ],
 "metadata": {
  "kernelspec": {
   "display_name": "Python [conda env:ML_work]",
   "language": "python",
   "name": "conda-env-ML_work-py"
  },
  "language_info": {
   "codemirror_mode": {
    "name": "ipython",
    "version": 3
   },
   "file_extension": ".py",
   "mimetype": "text/x-python",
   "name": "python",
   "nbconvert_exporter": "python",
   "pygments_lexer": "ipython3",
   "version": "3.7.9"
  }
 },
 "nbformat": 4,
 "nbformat_minor": 4
}
